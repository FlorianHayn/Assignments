{
 "cells": [
  {
   "cell_type": "code",
   "execution_count": 1,
   "id": "03132019",
   "metadata": {},
   "outputs": [],
   "source": [
    "#First assignment due 24/10/22 - Florian Hayn"
   ]
  },
  {
   "cell_type": "code",
   "execution_count": null,
   "id": "3abbef88",
   "metadata": {
    "scrolled": true
   },
   "outputs": [],
   "source": [
    "#Basic Data Types - List comprehension\n",
    "if __name__ == '__main__':\n",
    "    x = int(input())\n",
    "    y = int(input())\n",
    "    z = int(input())\n",
    "    n = int(input())\n",
    "    coords = []\n",
    "    sub = []\n",
    "    for i in range(x + 1):\n",
    "        for j in range(y + 1):\n",
    "            for k in range(z + 1):\n",
    "                sub = [i, j, k]\n",
    "                if i + j + k != n:\n",
    "                    coords.append(sub)\n",
    "    print(coords)"
   ]
  },
  {
   "cell_type": "code",
   "execution_count": null,
   "id": "90a644ad",
   "metadata": {},
   "outputs": [],
   "source": [
    "#Basic Data Types - Find the runner-up score\n",
    "if __name__ == '__main__':\n",
    "    n = int(input())\n",
    "    arr = list(map(int, input().split(\" \")))\n",
    "    arrsorted = sorted(arr)\n",
    "    for i in range(1, len(arr) + 1):\n",
    "        if arrsorted[-i] > arrsorted[-i - 1]:\n",
    "            secondhighest = arrsorted[-i - 1]\n",
    "            break\n",
    "    print(secondhighest)"
   ]
  },
  {
   "cell_type": "code",
   "execution_count": null,
   "id": "47d29084",
   "metadata": {},
   "outputs": [],
   "source": [
    "#Basic Data Types - Lists\n",
    "if __name__ == '__main__':\n",
    "    N = int(input())\n",
    "    list = []\n",
    "    for i in range(N):\n",
    "        Befehl = input().split()\n",
    "        if Befehl[0] == \"insert\":\n",
    "            list.insert(int(Befehl[1]), int(Befehl[2]))\n",
    "        elif Befehl[0] == \"print\":\n",
    "            print(list)\n",
    "        elif Befehl[0] == \"remove\":\n",
    "            list.remove(int(Befehl[1]))\n",
    "        elif Befehl[0] == \"append\":\n",
    "            list.append(int(Befehl[1]))\n",
    "        elif Befehl[0] == \"sort\":\n",
    "            list.sort()\n",
    "        elif Befehl[0] == \"pop\":\n",
    "            list.pop()\n",
    "        elif Befehl[0] == \"reverse\":\n",
    "            list.reverse()"
   ]
  },
  {
   "cell_type": "code",
   "execution_count": null,
   "id": "abe06d6e",
   "metadata": {},
   "outputs": [],
   "source": [
    "#Basic Data Types - Finding the percentage\n",
    "if __name__ == '__main__':\n",
    "    n = int(input())\n",
    "    student_marks = {}\n",
    "    for _ in range(n):\n",
    "        name, *line = input().split()\n",
    "        scores = list(map(float, line))\n",
    "        student_marks[name] = scores\n",
    "    query_name = input()\n",
    "    total = 0\n",
    "    for i in range (len(student_marks[query_name])):\n",
    "        total += student_marks[query_name][i]\n",
    "    average = total / len(student_marks[query_name])\n",
    "    print(f'{average:.2f}')"
   ]
  },
  {
   "cell_type": "code",
   "execution_count": null,
   "id": "fa989b93",
   "metadata": {},
   "outputs": [],
   "source": [
    "#Basic Data Types - Tuples\n",
    "if __name__ == '__main__':\n",
    "    n = int(input())\n",
    "    t = tuple(map(int, input().split()))\n",
    "    print(hash(t))"
   ]
  },
  {
   "cell_type": "code",
   "execution_count": null,
   "id": "bbe69853",
   "metadata": {},
   "outputs": [],
   "source": [
    "#Strings - String formatting\n",
    "def print_formatted(number):\n",
    "    lenbin = len(bin(int(number))[2:])\n",
    "    for i in range(1, int(number) + 1):\n",
    "        intlen = lenbin - len(str(i))\n",
    "        octlen = lenbin - len((oct(i)[2:]))\n",
    "        hexlen = lenbin - len((hex(i)[2:]))\n",
    "        #print(intlen, octlen, hexlen)\n",
    "        print(intlen*\" \" + str(i) , \\\n",
    "              octlen*\" \" + str(oct(i))[2:], \\\n",
    "              hexlen*\" \" + str(hex(i))[2:].upper(), \\\n",
    "              str(bin(i))[2:].rjust(lenbin))\n",
    "\n",
    "if __name__ == '__main__':\n",
    "    n = int(input())\n",
    "    print_formatted(n)"
   ]
  },
  {
   "cell_type": "code",
   "execution_count": null,
   "id": "f7bdcaef",
   "metadata": {},
   "outputs": [],
   "source": [
    "#Strings - String validators\n",
    "if __name__ == '__main__':\n",
    "    s = input()\n",
    "    \n",
    "    alnum = 0\n",
    "    alp = 0\n",
    "    dig = 0\n",
    "    low = 0\n",
    "    cap = 0\n",
    "    \n",
    "    for i in range(len(s)):\n",
    "        if s[i].isalnum() == True:\n",
    "            alnum = 1\n",
    "        if s[i].isalpha() == True:\n",
    "            alp = 1\n",
    "        if s[i].isdigit() == True:\n",
    "            dig = 1\n",
    "        if s[i].islower() == True:\n",
    "            low = 1\n",
    "        if s[i].isupper() == True:\n",
    "            cap = 1\n",
    "            \n",
    "    if alnum == 1:\n",
    "        print(\"True\")\n",
    "    else:\n",
    "        print(\"False\")\n",
    "    if alp == 1:\n",
    "        print(\"True\")\n",
    "    else:\n",
    "        print(\"False\")\n",
    "    if dig == 1:\n",
    "        print(\"True\")\n",
    "    else:\n",
    "        print(\"False\")\n",
    "    if low == 1:\n",
    "        print(\"True\")\n",
    "    else:\n",
    "        print(\"False\")\n",
    "    if cap == 1:\n",
    "        print(\"True\")\n",
    "    else:\n",
    "        print(\"False\")"
   ]
  },
  {
   "cell_type": "code",
   "execution_count": null,
   "id": "15d12580",
   "metadata": {},
   "outputs": [],
   "source": [
    "#Strings - sWAP cASE\n",
    "def swap_case(s):\n",
    "    listupper = []\n",
    "    result = \"\"\n",
    "    for i in range(len(s)):\n",
    "        if s[i].isupper() == True:\n",
    "            listupper.append(i)\n",
    "            \n",
    "    prelimResult = s.upper()\n",
    "    listString = list(prelimResult)\n",
    "    \n",
    "    for j in range(len(listupper)):\n",
    "        del listString[listupper[j]]\n",
    "        listString.insert(listupper[j], prelimResult[listupper[j]].lower())\n",
    "        result = \"\".join(listString)\n",
    "    return result\n",
    "\n",
    "if __name__ == '__main__':\n",
    "    s = input()\n",
    "    result = swap_case(s)\n",
    "    print(result)"
   ]
  },
  {
   "cell_type": "code",
   "execution_count": null,
   "id": "80944218",
   "metadata": {},
   "outputs": [],
   "source": [
    "#Strings - Find a string\n",
    "def count_substring(string, sub_string):\n",
    "    count = 0\n",
    "    lensubstring = len(sub_string)\n",
    "    for i in range(len(string)):\n",
    "        if(string[i:i+lensubstring]) == sub_string:\n",
    "            count += 1\n",
    "    return count\n",
    "\n",
    "if __name__ == '__main__':\n",
    "    string = input().strip()\n",
    "    sub_string = input().strip()\n",
    "    \n",
    "    count = count_substring(string, sub_string)\n",
    "    print(count)"
   ]
  },
  {
   "cell_type": "code",
   "execution_count": null,
   "id": "a9632ae7",
   "metadata": {},
   "outputs": [],
   "source": [
    "#Sets - Introduction to sets\n",
    "def average(array):\n",
    "    sum = 0\n",
    "    for i in range(len(set(array))):\n",
    "        sum += list(set(array))[i]\n",
    "    average = sum/len(set(array))\n",
    "    return average\n",
    "\n",
    "if __name__ == '__main__':\n",
    "    n = int(input())\n",
    "    arr = list(map(int, input().split()))\n",
    "    result = average(arr)\n",
    "    print(result)"
   ]
  },
  {
   "cell_type": "code",
   "execution_count": null,
   "id": "1546d3f6",
   "metadata": {},
   "outputs": [],
   "source": [
    "#Sets - Sets.add()\n",
    "if __name__ == '__main__':\n",
    "    n = input()\n",
    "    s = set()\n",
    "    for i in range(int(n)):\n",
    "        listCountries = s.add(input())\n",
    "    print(len(s))"
   ]
  },
  {
   "cell_type": "code",
   "execution_count": null,
   "id": "a8b0edd7",
   "metadata": {},
   "outputs": [],
   "source": [
    "#Sets - Sets.intersection()\n",
    "if __name__ == '__main__':\n",
    "    n = int(input())\n",
    "    students1 = set(map(int, input().split()))\n",
    "    m = int(input())\n",
    "    students2 = set(map(int, input().split()))\n",
    "    print(len(students1.intersection(students2)))"
   ]
  },
  {
   "cell_type": "code",
   "execution_count": null,
   "id": "d9e1159a",
   "metadata": {},
   "outputs": [],
   "source": [
    "#Sets - Sets.difference()\n",
    "if __name__ == '__main__':\n",
    "    n = int(input())\n",
    "    students1 = set(map(int, input().split()))\n",
    "    m = int(input())\n",
    "    students2 = set(map(int, input().split()))\n",
    "    print(len(students1.difference(students2)))"
   ]
  },
  {
   "cell_type": "code",
   "execution_count": null,
   "id": "eecce4b6",
   "metadata": {},
   "outputs": [],
   "source": [
    "#Math - Mod Divmod\n",
    "if __name__ == '__main__':\n",
    "    a = int(input())\n",
    "    b = int(input())\n",
    "    print(a//b)\n",
    "    print(a%b)\n",
    "    print(divmod(a, b))"
   ]
  },
  {
   "cell_type": "code",
   "execution_count": null,
   "id": "bf35d768",
   "metadata": {},
   "outputs": [],
   "source": [
    "#Math - Mod Power\n",
    "if __name__ == '__main__':\n",
    "    a = int(input())\n",
    "    b = int(input())\n",
    "    m = int(input())\n",
    "    print(pow(a,b))\n",
    "    print(pow(a,b,m))"
   ]
  },
  {
   "cell_type": "code",
   "execution_count": null,
   "id": "4ef32094",
   "metadata": {},
   "outputs": [],
   "source": [
    "#Math - Integers come in all sizes\n",
    "if __name__ == '__main__':\n",
    "    a = int(input())\n",
    "    b = int(input())\n",
    "    c = int(input())\n",
    "    d = int(input())\n",
    "    res = a ** b + c ** d\n",
    "    print(res)"
   ]
  },
  {
   "cell_type": "code",
   "execution_count": null,
   "id": "93221c5d",
   "metadata": {},
   "outputs": [],
   "source": [
    "#Math - Triangle Quest\n",
    "for i in range(1,int(input())):\n",
    "    print(i * (((10 ** i) - 1) // 9))"
   ]
  },
  {
   "cell_type": "code",
   "execution_count": null,
   "id": "7db34e0a",
   "metadata": {},
   "outputs": [],
   "source": [
    "#Itertools - Combinations\n",
    "from itertools import combinations\n",
    "\n",
    "combin = []\n",
    "\n",
    "if __name__ == '__main__':\n",
    "    arr = list(map(str, input().split()))\n",
    "    word = arr[0]\n",
    "    k = arr[1]\n",
    "    \n",
    "    for i in range(int(k)):\n",
    "        combin = sorted(list(combinations(sorted(word), i + 1)))\n",
    "        for n in range(len(combin)):\n",
    "            word2 = \"\"\n",
    "            for m in range(len(combin[n])):\n",
    "                letter = (combin[n][m])\n",
    "                word2 = word2 + letter\n",
    "            print(word2)"
   ]
  },
  {
   "cell_type": "code",
   "execution_count": null,
   "id": "808473b1",
   "metadata": {},
   "outputs": [],
   "source": [
    "#Itertools - Combinations with replacement\n",
    "from itertools import combinations_with_replacement\n",
    "\n",
    "combin = []\n",
    "\n",
    "if __name__ == '__main__':\n",
    "    arr = list(map(str, input().split()))\n",
    "    lis = arr[0]\n",
    "    k = arr[1]\n",
    "    comb = (sorted(list(combinations_with_replacement(sorted(lis), int(k)))))\n",
    "\n",
    "    for i in range(len(comb)):\n",
    "        word = \"\"\n",
    "        for n in range(len(comb[i])):\n",
    "            letter = comb[i][n]\n",
    "            word = word + letter\n",
    "        print(word)"
   ]
  },
  {
   "cell_type": "code",
   "execution_count": null,
   "id": "c2c41ce6",
   "metadata": {},
   "outputs": [],
   "source": [
    "#Itertools - Permutations\n",
    "from itertools import permutations\n",
    "\n",
    "if __name__ == '__main__':\n",
    "    arr = list(map(str, input().split()))\n",
    "    word = arr[0]\n",
    "    k = arr[1]\n",
    "\n",
    "    wordPermut = sorted(list(permutations(word, int(k))))\n",
    "    for i in range(len(wordPermut)):\n",
    "        Word = \"\"\n",
    "        for n in range(int(k)):\n",
    "            Letter = wordPermut[i][n]\n",
    "            Word = Word + Letter\n",
    "        print(Word)"
   ]
  },
  {
   "cell_type": "code",
   "execution_count": null,
   "id": "6f55eab9",
   "metadata": {},
   "outputs": [],
   "source": [
    "#Itertools - Compress the string\n",
    "if __name__ == '__main__':\n",
    "    s = input()\n",
    "    length = len(s)\n",
    "    consecNumbers = 1\n",
    "    count = 0\n",
    "    ListNumbers = []\n",
    "\n",
    "    while count < length:\n",
    "        \n",
    "        Ziffer = s[count]\n",
    "        consecNumbers = 1\n",
    "        \n",
    "        while count + consecNumbers <= length - 1 and \\\n",
    "              Ziffer == s[count + consecNumbers]:\n",
    "            consecNumbers += 1\n",
    "\n",
    "        repeats = (consecNumbers, int(Ziffer))\n",
    "\n",
    "        ListNumbers.append(repeats)\n",
    "        \n",
    "        count += consecNumbers\n",
    "\n",
    "    print(*ListNumbers)"
   ]
  }
 ],
 "metadata": {
  "kernelspec": {
   "display_name": "Python 3.8.5 32-bit",
   "language": "python",
   "name": "python3"
  },
  "language_info": {
   "codemirror_mode": {
    "name": "ipython",
    "version": 3
   },
   "file_extension": ".py",
   "mimetype": "text/x-python",
   "name": "python",
   "nbconvert_exporter": "python",
   "pygments_lexer": "ipython3",
   "version": "3.8.5"
  },
  "vscode": {
   "interpreter": {
    "hash": "62057309ec6be91e14512ad52b629680959a32a63464395a3fdd8c5bfb97dc3e"
   }
  }
 },
 "nbformat": 4,
 "nbformat_minor": 5
}
